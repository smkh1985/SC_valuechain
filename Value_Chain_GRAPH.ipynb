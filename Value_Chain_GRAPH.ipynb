{
  "nbformat": 4,
  "nbformat_minor": 0,
  "metadata": {
    "colab": {
      "provenance": [],
      "authorship_tag": "ABX9TyNZLiysxEvNBZJ2H8UwL8E1",
      "include_colab_link": true
    },
    "kernelspec": {
      "name": "python3",
      "display_name": "Python 3"
    },
    "language_info": {
      "name": "python"
    }
  },
  "cells": [
    {
      "cell_type": "markdown",
      "metadata": {
        "id": "view-in-github",
        "colab_type": "text"
      },
      "source": [
        "<a href=\"https://colab.research.google.com/github/smkh1985/SC_valuechain/blob/main/Value_Chain_GRAPH.ipynb\" target=\"_parent\"><img src=\"https://colab.research.google.com/assets/colab-badge.svg\" alt=\"Open In Colab\"/></a>"
      ]
    },
    {
      "cell_type": "code",
      "source": [
        "!pip install neo4j"
      ],
      "metadata": {
        "colab": {
          "base_uri": "https://localhost:8080/"
        },
        "id": "kK9v4BNFswl-",
        "outputId": "07f2cef5-808c-4a82-91da-3eb42f36b82f"
      },
      "execution_count": 1,
      "outputs": [
        {
          "output_type": "stream",
          "name": "stdout",
          "text": [
            "Looking in indexes: https://pypi.org/simple, https://us-python.pkg.dev/colab-wheels/public/simple/\n",
            "Collecting neo4j\n",
            "  Downloading neo4j-5.5.0.tar.gz (171 kB)\n",
            "\u001b[2K     \u001b[90m━━━━━━━━━━━━━━━━━━━━━━━━━━━━━━━━━━━━━━━\u001b[0m \u001b[32m171.0/171.0 KB\u001b[0m \u001b[31m4.0 MB/s\u001b[0m eta \u001b[36m0:00:00\u001b[0m\n",
            "\u001b[?25h  Installing build dependencies ... \u001b[?25l\u001b[?25hdone\n",
            "  Getting requirements to build wheel ... \u001b[?25l\u001b[?25hdone\n",
            "  Installing backend dependencies ... \u001b[?25l\u001b[?25hdone\n",
            "  Preparing metadata (pyproject.toml) ... \u001b[?25l\u001b[?25hdone\n",
            "\u001b[33m  WARNING: Generating metadata for package neo4j produced metadata for project name unknown. Fix your #egg=neo4j fragments.\u001b[0m\u001b[33m\n",
            "\u001b[0mDiscarding \u001b[4;34mhttps://files.pythonhosted.org/packages/d3/b7/f1f8ffdb12d7e10d31b0a23bc2d8a78ad4659474eda2a62f023717df2ba1/neo4j-5.5.0.tar.gz#sha256=2632386380b2ebb7d6a80e4186899ef342ef0507601c65e200696f13742046b8 (from https://pypi.org/simple/neo4j/) (requires-python:>=3.7)\u001b[0m: \u001b[33mRequested unknown from https://files.pythonhosted.org/packages/d3/b7/f1f8ffdb12d7e10d31b0a23bc2d8a78ad4659474eda2a62f023717df2ba1/neo4j-5.5.0.tar.gz#sha256=2632386380b2ebb7d6a80e4186899ef342ef0507601c65e200696f13742046b8 has inconsistent name: filename has 'neo4j', but metadata has 'unknown'\u001b[0m\n",
            "  Downloading neo4j-5.4.0.tar.gz (162 kB)\n",
            "\u001b[2K     \u001b[90m━━━━━━━━━━━━━━━━━━━━━━━━━━━━━━━━━━━━━━\u001b[0m \u001b[32m162.5/162.5 KB\u001b[0m \u001b[31m17.1 MB/s\u001b[0m eta \u001b[36m0:00:00\u001b[0m\n",
            "\u001b[?25h  Installing build dependencies ... \u001b[?25l\u001b[?25hdone\n",
            "  Getting requirements to build wheel ... \u001b[?25l\u001b[?25hdone\n",
            "  Installing backend dependencies ... \u001b[?25l\u001b[?25hdone\n",
            "  Preparing metadata (pyproject.toml) ... \u001b[?25l\u001b[?25hdone\n",
            "\u001b[33m  WARNING: Generating metadata for package neo4j produced metadata for project name unknown. Fix your #egg=neo4j fragments.\u001b[0m\u001b[33m\n",
            "\u001b[0mDiscarding \u001b[4;34mhttps://files.pythonhosted.org/packages/01/b1/f0fe9bc5f59d54bd0ff74afdfdc58911aaab53315f2ed40087b018eb54f8/neo4j-5.4.0.tar.gz#sha256=50293f716412cc8a0fc87c364b0da105aa439859d28ffa5c89f5ca0d44514049 (from https://pypi.org/simple/neo4j/) (requires-python:>=3.7)\u001b[0m: \u001b[33mRequested unknown from https://files.pythonhosted.org/packages/01/b1/f0fe9bc5f59d54bd0ff74afdfdc58911aaab53315f2ed40087b018eb54f8/neo4j-5.4.0.tar.gz#sha256=50293f716412cc8a0fc87c364b0da105aa439859d28ffa5c89f5ca0d44514049 has inconsistent name: filename has 'neo4j', but metadata has 'unknown'\u001b[0m\n",
            "  Downloading neo4j-5.3.0.tar.gz (157 kB)\n",
            "\u001b[2K     \u001b[90m━━━━━━━━━━━━━━━━━━━━━━━━━━━━━━━━━━━━━━\u001b[0m \u001b[32m157.8/157.8 KB\u001b[0m \u001b[31m13.0 MB/s\u001b[0m eta \u001b[36m0:00:00\u001b[0m\n",
            "\u001b[?25h  Installing build dependencies ... \u001b[?25l\u001b[?25hdone\n",
            "  Getting requirements to build wheel ... \u001b[?25l\u001b[?25hdone\n",
            "  Installing backend dependencies ... \u001b[?25l\u001b[?25hdone\n",
            "  Preparing metadata (pyproject.toml) ... \u001b[?25l\u001b[?25hdone\n",
            "\u001b[33m  WARNING: Generating metadata for package neo4j produced metadata for project name unknown. Fix your #egg=neo4j fragments.\u001b[0m\u001b[33m\n",
            "\u001b[0mDiscarding \u001b[4;34mhttps://files.pythonhosted.org/packages/56/84/c4ac67441e6f2c68e859e64631d6a218a922a2aca0603dcf96ff99f17734/neo4j-5.3.0.tar.gz#sha256=0c1c7d8812eed60da0a442d1e0f35edbda248255703e506a081cb70e083b3b5c (from https://pypi.org/simple/neo4j/) (requires-python:>=3.7)\u001b[0m: \u001b[33mRequested unknown from https://files.pythonhosted.org/packages/56/84/c4ac67441e6f2c68e859e64631d6a218a922a2aca0603dcf96ff99f17734/neo4j-5.3.0.tar.gz#sha256=0c1c7d8812eed60da0a442d1e0f35edbda248255703e506a081cb70e083b3b5c has inconsistent name: filename has 'neo4j', but metadata has 'unknown'\u001b[0m\n",
            "  Downloading neo4j-5.2.1.tar.gz (174 kB)\n",
            "\u001b[2K     \u001b[90m━━━━━━━━━━━━━━━━━━━━━━━━━━━━━━━━━━━━━━\u001b[0m \u001b[32m174.2/174.2 KB\u001b[0m \u001b[31m12.0 MB/s\u001b[0m eta \u001b[36m0:00:00\u001b[0m\n",
            "\u001b[?25h  Preparing metadata (setup.py) ... \u001b[?25l\u001b[?25hdone\n",
            "Requirement already satisfied: pytz in /usr/local/lib/python3.8/dist-packages (from neo4j) (2022.7.1)\n",
            "Building wheels for collected packages: neo4j\n",
            "  Building wheel for neo4j (setup.py) ... \u001b[?25l\u001b[?25hdone\n",
            "  Created wheel for neo4j: filename=neo4j-5.2.1-py3-none-any.whl size=249499 sha256=a4fcc2875b3a46acaf1420523a2080c825de1bd6cdcff008c24cadb488798e07\n",
            "  Stored in directory: /root/.cache/pip/wheels/3f/cb/09/5c56a88c1650f9d4fe57e59d9a67a5d77fcef88f55d5c233f1\n",
            "Successfully built neo4j\n",
            "Installing collected packages: neo4j\n",
            "Successfully installed neo4j-5.2.1\n"
          ]
        }
      ]
    },
    {
      "cell_type": "code",
      "source": [
        "from google.colab import drive\n",
        "drive.mount('/content/drive')"
      ],
      "metadata": {
        "id": "HjVtvX3_bRg4"
      },
      "execution_count": null,
      "outputs": []
    },
    {
      "cell_type": "code",
      "source": [
        "from neo4j import GraphDatabase\n",
        "import logging\n",
        "from neo4j.exceptions import ServiceUnavailable\n",
        "\n",
        "\n",
        "import pandas as pd\n",
        "\n",
        "import xlrd\n"
      ],
      "metadata": {
        "id": "c0NOnjLAsqhm"
      },
      "execution_count": 5,
      "outputs": []
    },
    {
      "cell_type": "code",
      "source": [
        "df = pd.read_excel(\"ValueChains.xlsx\",skiprows=5)\n",
        "df.columns = [name.replace(\" \",\"_\") for name in df.columns]\n",
        "df['Last_Update_Date'] = pd.to_datetime(df['Last_Update_Date']).apply(lambda x: x.date())"
      ],
      "metadata": {
        "id": "qmeHixWLuBVO"
      },
      "execution_count": 16,
      "outputs": []
    },
    {
      "cell_type": "code",
      "source": [
        "\n",
        "workbook = xlrd.open_workbook('ValueChains.xlsx')\n",
        "worksheet = workbook.sheet_by_name('Value Chains')\n",
        "main_company_name = worksheet.cell(2, 1).value\n",
        "main_company_id =  worksheet.cell(3, 1).value"
      ],
      "metadata": {
        "id": "bH93RmCAWC9G"
      },
      "execution_count": 8,
      "outputs": []
    },
    {
      "cell_type": "code",
      "execution_count": 9,
      "metadata": {
        "id": "BWp0gRoqsfeR"
      },
      "outputs": [],
      "source": [
        "class ValueChainGraphDB():\n",
        "  def __init__(self , uri , username , password):\n",
        "    self.driver = None\n",
        "    try :\n",
        "      self.driver = GraphDatabase.driver(uri , auth= (username,password))\n",
        "    except Exception as e:\n",
        "            print(\"Failed to create the driver:\", e)\n",
        "\n",
        "\n",
        "  def close(self):\n",
        "    self.driver.close()\n",
        "\n",
        "  \n",
        "  def query(self, query, parameters=None, db=None):\n",
        "        assert self.driver is not None, \"Driver not initialized!\"\n",
        "        session = None\n",
        "        response = None\n",
        "        try: \n",
        "            session = self.driver.session(database=db) if db is not None else self.driver.session() \n",
        "            response = list(session.run(query, parameters))\n",
        "        except Exception as e:\n",
        "            print(\"Query failed:\", e)\n",
        "        finally: \n",
        "            if session is not None:\n",
        "                session.close()\n",
        "        return response\n",
        "\n",
        "  def create_constraint(self):\n",
        "    self.query(\"CREATE CONSTRAIN unique_company ON (company:Company) ASSERT company.name IS UNIQUE\")\n"
      ]
    },
    {
      "cell_type": "code",
      "source": [
        "graph_db = ValueChainGraphDB(\"neo4j+s://12d6e328.databases.neo4j.io\",\"neo4j\",\"d--ukQGquG-o2T4gQGaArAK4cZLGtjBoBDhM-yJqe28\")"
      ],
      "metadata": {
        "id": "BLLX5qap4_Jz"
      },
      "execution_count": 10,
      "outputs": []
    },
    {
      "cell_type": "code",
      "source": [
        "def add_companies(companies):\n",
        "    # Adds category nodes to the Neo4j graph.\n",
        "    query = '''\n",
        "            UNWIND $rows AS row\n",
        "            MERGE (c:Company {name: row.Company_Name, id:row.Identifier})\n",
        "            RETURN count(*) as total\n",
        "            '''\n",
        "    return graph_db.query(query, parameters = {'rows':companies})\n",
        "\n",
        "\n",
        "def add_relationship(main_id,rls):\n",
        "    # Adds category nodes to the Neo4j graph.\n",
        "    query = '''\n",
        "            MATCH (c1:Company {id:$main_id})\n",
        "            UNWIND $rows AS row\n",
        "            MATCH (c2:Company {id:row.Identifier})\n",
        "            CREATE (c1)-[:LINK]->(c2)\n",
        "            RETURN count(*) as total\n",
        "            '''\n",
        "    return graph_db.query(query, parameters = {'rows':rls , 'main_id':main_id})\n"
      ],
      "metadata": {
        "id": "kNrTfMND5h5t"
      },
      "execution_count": 46,
      "outputs": []
    },
    {
      "cell_type": "code",
      "source": [
        "add_companies(df.loc[:,['Identifier','Company_Name']].to_dict('records'))\n",
        "add_companies({'Identifier':main_company_id,'Company_Name':main_company_name})"
      ],
      "metadata": {
        "colab": {
          "base_uri": "https://localhost:8080/"
        },
        "id": "mNDp1iIR6Bsu",
        "outputId": "a1fb873f-4ff7-4c61-c345-c1105d96e24c"
      },
      "execution_count": 47,
      "outputs": [
        {
          "output_type": "execute_result",
          "data": {
            "text/plain": [
              "[<Record total=1>]"
            ]
          },
          "metadata": {},
          "execution_count": 47
        }
      ]
    },
    {
      "cell_type": "code",
      "source": [
        "add_relationship(main_company_id,df.to_dict('records'))"
      ],
      "metadata": {
        "colab": {
          "base_uri": "https://localhost:8080/"
        },
        "id": "kGL0FKtIrfg0",
        "outputId": "8395e80d-b701-441e-fbf6-84b2fc557ea0"
      },
      "execution_count": 48,
      "outputs": [
        {
          "output_type": "execute_result",
          "data": {
            "text/plain": [
              "[<Record total=356>]"
            ]
          },
          "metadata": {},
          "execution_count": 48
        }
      ]
    },
    {
      "cell_type": "code",
      "source": [],
      "metadata": {
        "id": "rUbFAu9ZcgS0"
      },
      "execution_count": null,
      "outputs": []
    }
  ]
}